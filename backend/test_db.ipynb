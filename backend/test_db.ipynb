{
 "cells": [
  {
   "cell_type": "code",
   "id": "initial_id",
   "metadata": {
    "collapsed": true,
    "ExecuteTime": {
     "end_time": "2025-04-29T00:48:47.946196Z",
     "start_time": "2025-04-29T00:48:47.943249Z"
    }
   },
   "source": [
    "import sqlite3\n",
    "\n",
    "conn = sqlite3.connect('database.db')  # Or artsphere_tiny.db if that's what you're using\n",
    "cursor = conn.cursor()\n",
    "\n",
    "cursor.execute(\"SELECT name FROM sqlite_master WHERE type='table';\")\n",
    "tables = cursor.fetchall()\n",
    "\n",
    "for table in tables:\n",
    "    print(table)"
   ],
   "outputs": [
    {
     "name": "stdout",
     "output_type": "stream",
     "text": [
      "('sqlite_sequence',)\n",
      "('artist',)\n",
      "('company',)\n",
      "('medium',)\n",
      "('type',)\n",
      "('department',)\n",
      "('creator',)\n",
      "('museum',)\n",
      "('artobject',)\n",
      "('user',)\n",
      "('user_collection',)\n"
     ]
    }
   ],
   "execution_count": 1
  },
  {
   "metadata": {
    "ExecuteTime": {
     "end_time": "2025-04-29T01:09:15.765141Z",
     "start_time": "2025-04-29T01:09:15.761657Z"
    }
   },
   "cell_type": "code",
   "source": [
    "import sqlite3\n",
    "\n",
    "# Connect to your database\n",
    "conn = sqlite3.connect('database.db')  # or 'artsphere_tiny.db' if that's the file you're using\n",
    "cursor = conn.cursor()\n",
    "\n",
    "# Get all table names\n",
    "cursor.execute(\"SELECT name FROM sqlite_master WHERE type='table';\")\n",
    "tables = cursor.fetchall()\n",
    "\n",
    "# For each table, get all columns\n",
    "for table_name in tables:\n",
    "    table_name = table_name[0]\n",
    "    print(f\"\\n📋 Table: {table_name}\")\n",
    "\n",
    "    cursor.execute(f\"PRAGMA table_info({table_name});\")\n",
    "    columns = cursor.fetchall()\n",
    "\n",
    "    for col in columns:\n",
    "        print(f\"   - {col[1]} ({col[2]})\")\n",
    "\n",
    "# Close connection\n",
    "conn.close()"
   ],
   "id": "256db8dc89751a08",
   "outputs": [
    {
     "name": "stdout",
     "output_type": "stream",
     "text": [
      "\n",
      "📋 Table: sqlite_sequence\n",
      "   - name ()\n",
      "   - seq ()\n",
      "\n",
      "📋 Table: artist\n",
      "   - artist_id (INTEGER)\n",
      "   - creator_id (INTEGER)\n",
      "   - begin_date (TEXT)\n",
      "   - end_date (TEXT)\n",
      "   - nationality (TEXT)\n",
      "   - artist_name (TEXT)\n",
      "\n",
      "📋 Table: company\n",
      "   - company_id (INTEGER)\n",
      "   - creator_id (INTEGER)\n",
      "   - nationality (TEXT)\n",
      "   - company_name (TEXT)\n",
      "\n",
      "📋 Table: medium\n",
      "   - medium_id (INTEGER)\n",
      "   - name (TEXT)\n",
      "   - material (TEXT)\n",
      "\n",
      "📋 Table: type\n",
      "   - type_id (INTEGER)\n",
      "   - type_name (TEXT)\n",
      "\n",
      "📋 Table: department\n",
      "   - dept_id (INTEGER)\n",
      "   - dept_name (TEXT)\n",
      "\n",
      "📋 Table: creator\n",
      "   - creator_id (INTEGER)\n",
      "   - creator_type (TEXT)\n",
      "\n",
      "📋 Table: museum\n",
      "   - Museum_ID (INTEGER)\n",
      "   - Museum_Name (TEXT)\n",
      "   - Address (TEXT)\n",
      "   - Latitude (REAL)\n",
      "   - Longitude (REAL)\n",
      "\n",
      "📋 Table: artobject\n",
      "   - object_id (INTEGER)\n",
      "   - object_name (TEXT)\n",
      "   - objectmuseum_id (TEXT)\n",
      "   - museum_id (INTEGER)\n",
      "   - creator_id (INTEGER)\n",
      "   - year (TEXT)\n",
      "   - medium_id (INTEGER)\n",
      "   - type_id (INTEGER)\n",
      "   - dept_id (INTEGER)\n",
      "\n",
      "📋 Table: user\n",
      "   - user_id (INTEGER)\n",
      "   - username (TEXT)\n",
      "   - email (TEXT)\n",
      "   - password_hash (TEXT)\n",
      "   - created_at (TIMESTAMP)\n",
      "\n",
      "📋 Table: user_collection\n",
      "   - collection_id (INTEGER)\n",
      "   - user_id (INTEGER)\n",
      "   - object_id (INTEGER)\n",
      "   - note (TEXT)\n",
      "   - date_added (DATETIME)\n"
     ]
    }
   ],
   "execution_count": 1
  }
 ],
 "metadata": {
  "kernelspec": {
   "display_name": "Python 3",
   "language": "python",
   "name": "python3"
  },
  "language_info": {
   "codemirror_mode": {
    "name": "ipython",
    "version": 2
   },
   "file_extension": ".py",
   "mimetype": "text/x-python",
   "name": "python",
   "nbconvert_exporter": "python",
   "pygments_lexer": "ipython2",
   "version": "2.7.6"
  }
 },
 "nbformat": 4,
 "nbformat_minor": 5
}
