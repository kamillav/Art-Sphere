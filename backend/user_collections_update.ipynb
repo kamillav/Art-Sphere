{
 "cells": [
  {
   "cell_type": "code",
   "id": "initial_id",
   "metadata": {
    "collapsed": true,
    "ExecuteTime": {
     "end_time": "2025-04-28T23:56:19.789933Z",
     "start_time": "2025-04-28T23:56:19.781019Z"
    }
   },
   "source": [
    "import sqlite3\n",
    "import shutil\n",
    "import os\n",
    "\n",
    "# Step 0: Backup your database first\n",
    "original_db = 'database.db'\n",
    "backup_db = 'database_backup_before_foreignkey.db'\n",
    "\n",
    "if os.path.exists(original_db):\n",
    "    shutil.copy2(original_db, backup_db)\n",
    "    print(f\"✅ Backup created: {backup_db}\")\n",
    "else:\n",
    "    print(\"❌ database.db not found!\")\n",
    "\n",
    "# Step 1: Connect to your database\n",
    "conn = sqlite3.connect(original_db)\n",
    "cursor = conn.cursor()\n",
    "\n",
    "# Step 2: Create a new table with proper foreign key constraints\n",
    "cursor.execute('''\n",
    "CREATE TABLE user_collection_new (\n",
    "    collection_id INTEGER PRIMARY KEY AUTOINCREMENT,\n",
    "    user_id INTEGER,\n",
    "    object_id INTEGER,\n",
    "    note TEXT,\n",
    "    date_added DATETIME DEFAULT CURRENT_TIMESTAMP,\n",
    "    FOREIGN KEY (user_id) REFERENCES user(user_id),\n",
    "    FOREIGN KEY (object_id) REFERENCES artobject(object_id)\n",
    ");\n",
    "''')\n",
    "\n",
    "print(\"✅ New user_collection_new table created with foreign keys.\")\n",
    "\n",
    "# Step 3: Copy old data into new table\n",
    "cursor.execute('''\n",
    "INSERT INTO user_collection_new (collection_id, user_id, object_id, note, date_added)\n",
    "SELECT collection_id, user_id, object_id, note, date_added FROM user_collection;\n",
    "''')\n",
    "\n",
    "print(\"✅ Data copied from old user_collection to user_collection_new.\")\n",
    "\n",
    "# Step 4: Drop the old table\n",
    "cursor.execute('DROP TABLE user_collection;')\n",
    "print(\"✅ Old user_collection table dropped.\")\n",
    "\n",
    "# Step 5: Rename the new table\n",
    "cursor.execute('ALTER TABLE user_collection_new RENAME TO user_collection;')\n",
    "print(\"✅ Renamed user_collection_new to user_collection.\")\n",
    "\n",
    "# Step 6: Commit and close\n",
    "conn.commit()\n",
    "conn.close()\n",
    "\n",
    "print(\"🎯 All done! Your database is now updated and backed up safely.\")"
   ],
   "outputs": [
    {
     "name": "stdout",
     "output_type": "stream",
     "text": [
      "✅ Backup created: database_backup_before_foreignkey.db\n",
      "✅ New user_collection_new table created with foreign keys.\n",
      "✅ Data copied from old user_collection to user_collection_new.\n",
      "✅ Old user_collection table dropped.\n",
      "✅ Renamed user_collection_new to user_collection.\n",
      "🎯 All done! Your database is now updated and backed up safely.\n"
     ]
    }
   ],
   "execution_count": 1
  }
 ],
 "metadata": {
  "kernelspec": {
   "display_name": "Python 3",
   "language": "python",
   "name": "python3"
  },
  "language_info": {
   "codemirror_mode": {
    "name": "ipython",
    "version": 2
   },
   "file_extension": ".py",
   "mimetype": "text/x-python",
   "name": "python",
   "nbconvert_exporter": "python",
   "pygments_lexer": "ipython2",
   "version": "2.7.6"
  }
 },
 "nbformat": 4,
 "nbformat_minor": 5
}
